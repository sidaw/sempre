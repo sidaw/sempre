{
 "cells": [
  {
   "cell_type": "code",
   "execution_count": 1,
   "metadata": {
    "collapsed": false
   },
   "outputs": [],
   "source": [
    "import requests\n",
    "import json\n",
    "import copy\n",
    "#accepts uterance and gives candidates\n",
    "def q(query):\n",
    "    r = requests.get('http://localhost:8410/sempre?q=(:q \"%s\")' % query)\n",
    "    derivs = json.loads(r.content)['candidates'];\n",
    "    for d in derivs:\n",
    "        print d['value']\n",
    "        plt.figure()\n",
    "        eval(d['value'])\n",
    "#recursively finds the enum stuff\n",
    "#returns a list of 2-ples where first of 2-ple is the keyword and second is the context in the form of a list\n",
    "#e.g. [(u'symbol', [u'definitions', u'Legend', u'properties', u'type', u'enum']), ...]\n",
    "def traverse(dictionary,field = []):\n",
    "    a = []\n",
    "    temp_field = copy.deepcopy(field)\n",
    "    for key in dictionary.keys():\n",
    "        if key=='enum':\n",
    "            temp_field.append(key)\n",
    "            list_enums = [(i,temp_field) for i in list(dictionary[key])]\n",
    "            a = a + list_enums\n",
    "        elif isinstance(dictionary[key],dict):\n",
    "            field.append(key)\n",
    "            a = a + traverse(dictionary[key],field=field)\n",
    "            field.pop()\n",
    "    return a\n",
    "def autocomplete(live_utterance, keyword_list):\n",
    "    last_live_token = live_utterance.split()[-1]\n",
    "    candidates = []\n",
    "    for word in keyword_list:\n",
    "        if last_live_token == word[0:len(last_live_token)]:\n",
    "            candidates.append(word)\n",
    "    return candidates"
   ]
  },
  {
   "cell_type": "code",
   "execution_count": 4,
   "metadata": {
    "collapsed": false
   },
   "outputs": [
    {
     "data": {
      "text/plain": [
       "(u'symbol', [u'definitions', u'Legend', u'properties', u'type', u'enum'])"
      ]
     },
     "execution_count": 4,
     "metadata": {},
     "output_type": "execute_result"
    }
   ],
   "source": [
    "#load keywords\n",
    "with open(\"v2.json\") as json_data:\n",
    "    d=json.load(json_data)\n",
    "lists = traverse(dictionary = d)\n",
    "keyword_list = [i[0] for i in lists]\n",
    "#path for first keyword\n",
    "lists[0]"
   ]
  },
  {
   "cell_type": "code",
   "execution_count": 5,
   "metadata": {
    "collapsed": false
   },
   "outputs": [
    {
     "data": {
      "text/plain": [
       "[u'area', u'argmax', u'argmin']"
      ]
     },
     "execution_count": 5,
     "metadata": {},
     "output_type": "execute_result"
    }
   ],
   "source": [
    "#Test\n",
    "autocomplete(\"add ar\",keyword_list)"
   ]
  },
  {
   "cell_type": "code",
   "execution_count": null,
   "metadata": {
    "collapsed": true
   },
   "outputs": [],
   "source": []
  }
 ],
 "metadata": {
  "kernelspec": {
   "display_name": "Python 2",
   "language": "python",
   "name": "python2"
  },
  "language_info": {
   "codemirror_mode": {
    "name": "ipython",
    "version": 2
   },
   "file_extension": ".py",
   "mimetype": "text/x-python",
   "name": "python",
   "nbconvert_exporter": "python",
   "pygments_lexer": "ipython2",
   "version": "2.7.12"
  }
 },
 "nbformat": 4,
 "nbformat_minor": 0
}
